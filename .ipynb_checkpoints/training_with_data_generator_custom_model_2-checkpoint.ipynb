{
 "cells": [
  {
   "cell_type": "code",
   "execution_count": 1,
   "metadata": {
    "colab": {
     "base_uri": "https://localhost:8080/"
    },
    "executionInfo": {
     "elapsed": 21372,
     "status": "ok",
     "timestamp": 1628743640285,
     "user": {
      "displayName": "Yash Patel",
      "photoUrl": "",
      "userId": "04860650492652365427"
     },
     "user_tz": -330
    },
    "id": "9X05wkkPqESn",
    "outputId": "4c618fb2-3992-4917-e12f-2e2552d90e75"
   },
   "outputs": [
    {
     "name": "stdout",
     "output_type": "stream",
     "text": [
      "Mounted at ./gdrive\n"
     ]
    }
   ],
   "source": [
    "#loading google drive\n",
    "from google.colab import drive\n",
    "drive.mount('./gdrive')"
   ]
  },
  {
   "cell_type": "code",
   "execution_count": 2,
   "metadata": {
    "executionInfo": {
     "elapsed": 1119,
     "status": "ok",
     "timestamp": 1628743643990,
     "user": {
      "displayName": "Yash Patel",
      "photoUrl": "",
      "userId": "04860650492652365427"
     },
     "user_tz": -330
    },
    "id": "34z0LjOEqFlR"
   },
   "outputs": [],
   "source": [
    "import numpy as np \n",
    "import pandas as pd \n",
    "import random\n",
    "import cv2\n",
    "import os"
   ]
  },
  {
   "cell_type": "code",
   "execution_count": 3,
   "metadata": {
    "executionInfo": {
     "elapsed": 412,
     "status": "ok",
     "timestamp": 1628743645965,
     "user": {
      "displayName": "Yash Patel",
      "photoUrl": "",
      "userId": "04860650492652365427"
     },
     "user_tz": -330
    },
    "id": "D11m8s_UqG5X"
   },
   "outputs": [],
   "source": [
    "#changing the current working directory\n",
    "os.chdir(\"/content/gdrive/MyDrive/ML Project/Mushroom Research Paper\")"
   ]
  },
  {
   "cell_type": "code",
   "execution_count": 4,
   "metadata": {
    "colab": {
     "base_uri": "https://localhost:8080/"
    },
    "executionInfo": {
     "elapsed": 493,
     "status": "ok",
     "timestamp": 1628743647989,
     "user": {
      "displayName": "Yash Patel",
      "photoUrl": "",
      "userId": "04860650492652365427"
     },
     "user_tz": -330
    },
    "id": "emi_ZaKpqIXI",
    "outputId": "9b37310f-30f5-41a7-82e9-e90437b036d9"
   },
   "outputs": [
    {
     "data": {
      "text/plain": [
       "['Agaricus Bisporus',\n",
       " 'Death Cap',\n",
       " 'Galerina Autumnalis',\n",
       " 'Oyster',\n",
       " 'data_files',\n",
       " 'make_generator_dataset.ipynb',\n",
       " 'test2.ipynb',\n",
       " 'training_without_data_generator_transfered_learning.ipynb',\n",
       " 'training_with_data_generator_custom_model_1.ipynb',\n",
       " 'training_with_data_generator_custom_model_2.ipynb']"
      ]
     },
     "execution_count": 4,
     "metadata": {
      "tags": []
     },
     "output_type": "execute_result"
    }
   ],
   "source": [
    "#checking the directories present in current directory\n",
    "clss = os.listdir()\n",
    "clss"
   ]
  },
  {
   "cell_type": "code",
   "execution_count": 5,
   "metadata": {
    "executionInfo": {
     "elapsed": 3365,
     "status": "ok",
     "timestamp": 1628743654458,
     "user": {
      "displayName": "Yash Patel",
      "photoUrl": "",
      "userId": "04860650492652365427"
     },
     "user_tz": -330
    },
    "id": "Puhq5AvCqJpY"
   },
   "outputs": [],
   "source": [
    "from PIL import Image\n",
    "import matplotlib.pyplot as plt\n",
    "\n",
    "\n",
    "import cv2\n",
    "from sklearn.utils import shuffle\n",
    "\n",
    "from keras.utils import np_utils"
   ]
  },
  {
   "cell_type": "code",
   "execution_count": 6,
   "metadata": {
    "executionInfo": {
     "elapsed": 404,
     "status": "ok",
     "timestamp": 1628743657064,
     "user": {
      "displayName": "Yash Patel",
      "photoUrl": "",
      "userId": "04860650492652365427"
     },
     "user_tz": -330
    },
    "id": "RAgNigIWqLDP"
   },
   "outputs": [],
   "source": [
    "#loading data with the help of csv file generated earlier\n",
    "def load_samples(csv_file):\n",
    "    data = pd.read_csv(os.path.join('data_files',csv_file))\n",
    "    data = data[['FileName', 'Label', 'ClassName']]\n",
    "    file_names = list(data.iloc[:,0])\n",
    "    # Get the labels present in the second column\n",
    "    labels = list(data.iloc[:,1])\n",
    "    samples=[]\n",
    "    for samp,lab in zip(file_names,labels):\n",
    "        samples.append([samp,lab])\n",
    "    return samples"
   ]
  },
  {
   "cell_type": "code",
   "execution_count": 7,
   "metadata": {
    "executionInfo": {
     "elapsed": 604,
     "status": "ok",
     "timestamp": 1628743659400,
     "user": {
      "displayName": "Yash Patel",
      "photoUrl": "",
      "userId": "04860650492652365427"
     },
     "user_tz": -330
    },
    "id": "2HyhwCMvqN7_"
   },
   "outputs": [],
   "source": [
    "#checking and loading csv file\n",
    "data_path = 'mushroom_recognition_train.csv'\n",
    "samples = load_samples(data_path)"
   ]
  },
  {
   "cell_type": "code",
   "execution_count": 8,
   "metadata": {
    "colab": {
     "base_uri": "https://localhost:8080/"
    },
    "executionInfo": {
     "elapsed": 409,
     "status": "ok",
     "timestamp": 1628743661659,
     "user": {
      "displayName": "Yash Patel",
      "photoUrl": "",
      "userId": "04860650492652365427"
     },
     "user_tz": -330
    },
    "id": "56H3553qqQTn",
    "outputId": "1f16b194-e11f-4cc3-f5ec-196f3c97e351"
   },
   "outputs": [
    {
     "name": "stdout",
     "output_type": "stream",
     "text": [
      "[['/content/gdrive/My Drive/ML Project/Mushroom Research Paper/Agaricus Bisporus/pic_004.jpg', 0], ['/content/gdrive/My Drive/ML Project/Mushroom Research Paper/Agaricus Bisporus/pic_007.jpg', 0], ['/content/gdrive/My Drive/ML Project/Mushroom Research Paper/Agaricus Bisporus/pic_003.jpg', 0], ['/content/gdrive/My Drive/ML Project/Mushroom Research Paper/Agaricus Bisporus/pic_005.jpg', 0], ['/content/gdrive/My Drive/ML Project/Mushroom Research Paper/Agaricus Bisporus/pic_014.jpg', 0]]\n"
     ]
    }
   ],
   "source": [
    "print (samples[0:5])"
   ]
  },
  {
   "cell_type": "code",
   "execution_count": 9,
   "metadata": {
    "executionInfo": {
     "elapsed": 10,
     "status": "ok",
     "timestamp": 1628743663361,
     "user": {
      "displayName": "Yash Patel",
      "photoUrl": "",
      "userId": "04860650492652365427"
     },
     "user_tz": -330
    },
    "id": "R8XR-CKLqRqX"
   },
   "outputs": [],
   "source": [
    "#shuffling the data for variation\n",
    "def shuffle_data(data):\n",
    "    data = shuffle(data)#,random_state=2)\n",
    "    return data"
   ]
  },
  {
   "cell_type": "code",
   "execution_count": 10,
   "metadata": {
    "executionInfo": {
     "elapsed": 400,
     "status": "ok",
     "timestamp": 1628743666269,
     "user": {
      "displayName": "Yash Patel",
      "photoUrl": "",
      "userId": "04860650492652365427"
     },
     "user_tz": -330
    },
    "id": "FRK6PmpCqTLn"
   },
   "outputs": [],
   "source": [
    "#preprocessing of images to common size as well as its different attributes\n",
    "def preprocessing(img,label):\n",
    "    img = cv2.resize(img,(300,300))\n",
    "    img = img/255\n",
    "    label = np_utils.to_categorical(label, 4)\n",
    "    return img,label"
   ]
  },
  {
   "cell_type": "code",
   "execution_count": 11,
   "metadata": {
    "executionInfo": {
     "elapsed": 3,
     "status": "ok",
     "timestamp": 1628743667963,
     "user": {
      "displayName": "Yash Patel",
      "photoUrl": "",
      "userId": "04860650492652365427"
     },
     "user_tz": -330
    },
    "id": "rwwoqAD5qgGO"
   },
   "outputs": [],
   "source": [
    "#main data generator funtion\n",
    "def data_generator(samples, batch_size=32,shuffle_data=True,resize=224):\n",
    "    \"\"\"\n",
    "    Yields the next training batch.\n",
    "    Suppose `samples` is an array [[image1_filename,label1], [image2_filename,label2],...].\n",
    "    \"\"\"\n",
    "    num_samples = len(samples)\n",
    "    while True: # Loop forever so the generator never terminates\n",
    "        samples = shuffle(samples)\n",
    "\n",
    "        # Get index to start each batch: [0, batch_size, 2*batch_size, ..., max multiple of batch_size <= num_samples]\n",
    "        for offset in range(0, num_samples, batch_size):\n",
    "            # Get the samples you'll use in this batch\n",
    "            batch_samples = samples[offset:offset+batch_size]\n",
    "\n",
    "            # Initialise X_train and y_train arrays for this batch\n",
    "            X_train = []\n",
    "            y_train = []\n",
    "\n",
    "            # For each example\n",
    "            for batch_sample in batch_samples:\n",
    "                # Load image (X) and label (y)\n",
    "                img_name = batch_sample[0]\n",
    "                label = batch_sample[1]\n",
    "                img =  cv2.imread(os.path.join(\"\",img_name))\n",
    "                \n",
    "                # apply any kind of preprocessing\n",
    "                img,label = preprocessing(img,label)\n",
    "                # Add example to arrays\n",
    "                X_train.append(img)\n",
    "                y_train.append(label)\n",
    "\n",
    "            # Make sure they're numpy arrays (as opposed to lists)\n",
    "            X_train = np.array(X_train)\n",
    "            y_train = np.array(y_train)\n",
    "\n",
    "            # The generator-y part: yield the next training batch            \n",
    "            yield X_train, y_train"
   ]
  },
  {
   "cell_type": "code",
   "execution_count": 12,
   "metadata": {
    "colab": {
     "base_uri": "https://localhost:8080/"
    },
    "executionInfo": {
     "elapsed": 2624,
     "status": "ok",
     "timestamp": 1628743675222,
     "user": {
      "displayName": "Yash Patel",
      "photoUrl": "",
      "userId": "04860650492652365427"
     },
     "user_tz": -330
    },
    "id": "7TZOZ6C3qoB_",
    "outputId": "1b8aae46-633e-44c0-c1ec-cb2a1135af9d"
   },
   "outputs": [
    {
     "name": "stdout",
     "output_type": "stream",
     "text": [
      "x_shape:  (8, 300, 300, 3)\n",
      "labels shape:  (8, 4)\n",
      "labels:  [[0. 1. 0. 0.]\n",
      " [1. 0. 0. 0.]\n",
      " [0. 0. 1. 0.]\n",
      " [0. 0. 0. 1.]\n",
      " [1. 0. 0. 0.]\n",
      " [0. 1. 0. 0.]\n",
      " [1. 0. 0. 0.]\n",
      " [0. 0. 0. 1.]]\n"
     ]
    }
   ],
   "source": [
    "# this will create a generator object\n",
    "train_datagen = data_generator(samples,batch_size=8)\n",
    "\n",
    "x,y = next(train_datagen)\n",
    "print ('x_shape: ', x.shape)\n",
    "print ('labels shape: ', y.shape)\n",
    "print ('labels: ', y)"
   ]
  },
  {
   "cell_type": "code",
   "execution_count": 13,
   "metadata": {
    "colab": {
     "base_uri": "https://localhost:8080/"
    },
    "executionInfo": {
     "elapsed": 397,
     "status": "ok",
     "timestamp": 1628743679527,
     "user": {
      "displayName": "Yash Patel",
      "photoUrl": "",
      "userId": "04860650492652365427"
     },
     "user_tz": -330
    },
    "id": "ZbzirxnYqppI",
    "outputId": "7ee66684-4718-489b-c42c-73b47a20fe9c"
   },
   "outputs": [
    {
     "name": "stdout",
     "output_type": "stream",
     "text": [
      "number of train samples:  1412\n",
      "number of test samples:  799\n"
     ]
    }
   ],
   "source": [
    "#setting the paths\n",
    "train_data_path = 'mushroom_recognition_train.csv'\n",
    "test_data_path = 'mushroom_recognition_test.csv'\n",
    "\n",
    "train_samples = load_samples(train_data_path)\n",
    "test_samples = load_samples(test_data_path)\n",
    "\n",
    "num_train_samples = len(train_samples)\n",
    "num_test_samples = len(test_samples)\n",
    "\n",
    "print ('number of train samples: ', num_train_samples)\n",
    "print ('number of test samples: ', num_test_samples)"
   ]
  },
  {
   "cell_type": "code",
   "execution_count": 14,
   "metadata": {
    "executionInfo": {
     "elapsed": 404,
     "status": "ok",
     "timestamp": 1628743682079,
     "user": {
      "displayName": "Yash Patel",
      "photoUrl": "",
      "userId": "04860650492652365427"
     },
     "user_tz": -330
    },
    "id": "FzPXw78uqrL3"
   },
   "outputs": [],
   "source": [
    "# Create generator\n",
    "batch_size = 10\n",
    "train_generator = data_generator(train_samples, batch_size=32)\n",
    "validation_generator = data_generator(test_samples, batch_size=32)"
   ]
  },
  {
   "cell_type": "code",
   "execution_count": 3,
   "metadata": {
    "colab": {
     "base_uri": "https://localhost:8080/"
    },
    "executionInfo": {
     "elapsed": 2523,
     "status": "ok",
     "timestamp": 1628776629595,
     "user": {
      "displayName": "Yash Patel",
      "photoUrl": "",
      "userId": "04860650492652365427"
     },
     "user_tz": -330
    },
    "id": "Gu9uhEsSqt1v",
    "outputId": "b9983a5c-b794-4ce2-d4c2-1175d221b795"
   },
   "outputs": [
    {
     "name": "stdout",
     "output_type": "stream",
     "text": [
      "(300, 300, 3)\n",
      "Model: \"sequential_1\"\n",
      "_________________________________________________________________\n",
      "Layer (type)                 Output Shape              Param #   \n",
      "=================================================================\n",
      "conv2d_6 (Conv2D)            (None, 296, 296, 64)      4864      \n",
      "_________________________________________________________________\n",
      "batch_normalization_8 (Batch (None, 296, 296, 64)      256       \n",
      "_________________________________________________________________\n",
      "conv2d_7 (Conv2D)            (None, 292, 292, 64)      102464    \n",
      "_________________________________________________________________\n",
      "max_pooling2d_3 (MaxPooling2 (None, 146, 146, 64)      0         \n",
      "_________________________________________________________________\n",
      "batch_normalization_9 (Batch (None, 146, 146, 64)      256       \n",
      "_________________________________________________________________\n",
      "dropout_5 (Dropout)          (None, 146, 146, 64)      0         \n",
      "_________________________________________________________________\n",
      "conv2d_8 (Conv2D)            (None, 142, 142, 128)     204928    \n",
      "_________________________________________________________________\n",
      "batch_normalization_10 (Batc (None, 142, 142, 128)     512       \n",
      "_________________________________________________________________\n",
      "conv2d_9 (Conv2D)            (None, 138, 138, 128)     409728    \n",
      "_________________________________________________________________\n",
      "max_pooling2d_4 (MaxPooling2 (None, 69, 69, 128)       0         \n",
      "_________________________________________________________________\n",
      "batch_normalization_11 (Batc (None, 69, 69, 128)       512       \n",
      "_________________________________________________________________\n",
      "dropout_6 (Dropout)          (None, 69, 69, 128)       0         \n",
      "_________________________________________________________________\n",
      "conv2d_10 (Conv2D)           (None, 65, 65, 256)       819456    \n",
      "_________________________________________________________________\n",
      "batch_normalization_12 (Batc (None, 65, 65, 256)       1024      \n",
      "_________________________________________________________________\n",
      "conv2d_11 (Conv2D)           (None, 61, 61, 256)       1638656   \n",
      "_________________________________________________________________\n",
      "max_pooling2d_5 (MaxPooling2 (None, 30, 30, 256)       0         \n",
      "_________________________________________________________________\n",
      "batch_normalization_13 (Batc (None, 30, 30, 256)       1024      \n",
      "_________________________________________________________________\n",
      "dropout_7 (Dropout)          (None, 30, 30, 256)       0         \n",
      "_________________________________________________________________\n",
      "flatten_1 (Flatten)          (None, 230400)            0         \n",
      "_________________________________________________________________\n",
      "dense_2 (Dense)              (None, 256)               58982656  \n",
      "_________________________________________________________________\n",
      "batch_normalization_14 (Batc (None, 256)               1024      \n",
      "_________________________________________________________________\n",
      "dropout_8 (Dropout)          (None, 256)               0         \n",
      "_________________________________________________________________\n",
      "dense_3 (Dense)              (None, 256)               65792     \n",
      "_________________________________________________________________\n",
      "batch_normalization_15 (Batc (None, 256)               1024      \n",
      "_________________________________________________________________\n",
      "dropout_9 (Dropout)          (None, 256)               0         \n",
      "_________________________________________________________________\n",
      "dense_4 (Dense)              (None, 4)                 1028      \n",
      "=================================================================\n",
      "Total params: 62,235,204\n",
      "Trainable params: 62,232,388\n",
      "Non-trainable params: 2,816\n",
      "_________________________________________________________________\n"
     ]
    }
   ],
   "source": [
    "# import the necessary modules from the library\n",
    "from keras.models import Sequential\n",
    "from keras.layers import Dense, Conv2D, Flatten, Activation, MaxPooling2D, Dropout\n",
    "from keras.layers import BatchNormalization\n",
    "\n",
    "input_shape = (300,300,3)\n",
    "print (input_shape)\n",
    "\n",
    "model = Sequential()\n",
    "model.add(Conv2D(filters=64, kernel_size=(5, 5), input_shape=input_shape, activation='relu'))\n",
    "model.add(BatchNormalization(axis=3))\n",
    "model.add(Conv2D(filters=64, kernel_size=(5, 5), activation='relu'))\n",
    "model.add(MaxPooling2D((2, 2)))\n",
    "model.add(BatchNormalization(axis=3))\n",
    "model.add(Dropout(0.1))\n",
    "model.add(Conv2D(filters=128, kernel_size=(5, 5), activation='relu'))\n",
    "model.add(BatchNormalization(axis=3))\n",
    "model.add(Conv2D(filters=128, kernel_size=(5, 5), activation='relu'))\n",
    "model.add(MaxPooling2D((2, 2)))\n",
    "model.add(BatchNormalization(axis=3))\n",
    "model.add(Dropout(0.1))\n",
    "model.add(Conv2D(filters=256, kernel_size=(5, 5), activation='relu'))\n",
    "model.add(BatchNormalization(axis=3))\n",
    "model.add(Conv2D(filters=256, kernel_size=(5, 5), activation='relu'))\n",
    "model.add(MaxPooling2D((2, 2)))\n",
    "model.add(BatchNormalization(axis=3))\n",
    "model.add(Dropout(0.1))\n",
    "model.add(Flatten())\n",
    "model.add(Dense(256, activation='relu'))\n",
    "model.add(BatchNormalization())\n",
    "model.add(Dropout(0.5))\n",
    "model.add(Dense(256, activation='relu'))\n",
    "model.add(BatchNormalization())\n",
    "model.add(Dropout(0.5))\n",
    "model.add(Dense(4, activation='softmax'))\n",
    "model.compile(loss='categorical_crossentropy', optimizer='adam', metrics=['accuracy'])\n",
    "model.summary()"
   ]
  },
  {
   "cell_type": "code",
   "execution_count": 37,
   "metadata": {
    "colab": {
     "base_uri": "https://localhost:8080/"
    },
    "executionInfo": {
     "elapsed": 402,
     "status": "ok",
     "timestamp": 1628744664799,
     "user": {
      "displayName": "Yash Patel",
      "photoUrl": "",
      "userId": "04860650492652365427"
     },
     "user_tz": -330
    },
    "id": "jogIJitFqvRH",
    "outputId": "f544e8fd-c894-4f29-9a1e-50b6c906509a"
   },
   "outputs": [
    {
     "name": "stdout",
     "output_type": "stream",
     "text": [
      "Model: \"sequential_7\"\n",
      "_________________________________________________________________\n",
      "Layer (type)                 Output Shape              Param #   \n",
      "=================================================================\n",
      "conv2d_21 (Conv2D)           (None, 296, 296, 64)      4864      \n",
      "_________________________________________________________________\n",
      "activation (Activation)      (None, 296, 296, 64)      0         \n",
      "_________________________________________________________________\n",
      "conv2d_22 (Conv2D)           (None, 292, 292, 64)      102464    \n",
      "_________________________________________________________________\n",
      "max_pooling2d_10 (MaxPooling (None, 146, 146, 64)      0         \n",
      "_________________________________________________________________\n",
      "activation_1 (Activation)    (None, 146, 146, 64)      0         \n",
      "_________________________________________________________________\n",
      "dropout_20 (Dropout)         (None, 146, 146, 64)      0         \n",
      "_________________________________________________________________\n",
      "flatten_6 (Flatten)          (None, 1364224)           0         \n",
      "_________________________________________________________________\n",
      "dense_15 (Dense)             (None, 64)                87310400  \n",
      "_________________________________________________________________\n",
      "dropout_21 (Dropout)         (None, 64)                0         \n",
      "_________________________________________________________________\n",
      "dense_16 (Dense)             (None, 4)                 260       \n",
      "=================================================================\n",
      "Total params: 87,417,988\n",
      "Trainable params: 87,417,988\n",
      "Non-trainable params: 0\n",
      "_________________________________________________________________\n"
     ]
    }
   ],
   "source": [
    "model.summary()"
   ]
  },
  {
   "cell_type": "code",
   "execution_count": 38,
   "metadata": {
    "executionInfo": {
     "elapsed": 7,
     "status": "ok",
     "timestamp": 1628744668272,
     "user": {
      "displayName": "Yash Patel",
      "photoUrl": "",
      "userId": "04860650492652365427"
     },
     "user_tz": -330
    },
    "id": "_9ZPkGGmqvrw"
   },
   "outputs": [],
   "source": [
    "model.compile(loss='categorical_crossentropy', metrics=['acc'], optimizer='sgd')"
   ]
  },
  {
   "cell_type": "code",
   "execution_count": null,
   "metadata": {
    "colab": {
     "base_uri": "https://localhost:8080/"
    },
    "id": "THRZKWQsqw0f",
    "outputId": "be962ae6-7d42-40c4-b306-b551bb6aaf3f"
   },
   "outputs": [
    {
     "name": "stderr",
     "output_type": "stream",
     "text": [
      "/usr/local/lib/python3.7/dist-packages/keras/engine/training.py:1915: UserWarning: `Model.fit_generator` is deprecated and will be removed in a future version. Please use `Model.fit`, which supports generators.\n",
      "  warnings.warn('`Model.fit_generator` is deprecated and '\n"
     ]
    },
    {
     "name": "stdout",
     "output_type": "stream",
     "text": [
      "Epoch 1/10\n",
      "141/141 [==============================] - 7171s 51s/step - loss: 1.3674 - acc: 0.3537 - val_loss: 1.2136 - val_acc: 0.4800\n",
      "Epoch 2/10\n",
      "141/141 [==============================] - 7059s 50s/step - loss: 1.2255 - acc: 0.4745 - val_loss: 1.1063 - val_acc: 0.5299\n",
      "Epoch 3/10\n",
      "141/141 [==============================] - 7061s 50s/step - loss: 1.0935 - acc: 0.5437 - val_loss: 1.0736 - val_acc: 0.5050\n",
      "Epoch 4/10\n",
      " 61/141 [===========>..................] - ETA: 57:13 - loss: 1.0626 - acc: 0.5423"
     ]
    }
   ],
   "source": [
    "#training the model\n",
    "history_mdl1=model.fit_generator(\n",
    "        train_generator,\n",
    "        steps_per_epoch=num_train_samples // batch_size,\n",
    "        epochs=10,\n",
    "        validation_data=validation_generator,\n",
    "        validation_steps=num_test_samples // batch_size)"
   ]
  },
  {
   "cell_type": "code",
   "execution_count": null,
   "metadata": {
    "id": "OTIlkttlqyTI"
   },
   "outputs": [],
   "source": [
    "print(history_mdl1.history.keys())"
   ]
  },
  {
   "cell_type": "code",
   "execution_count": null,
   "metadata": {
    "id": "SyKukuZSq1rY"
   },
   "outputs": [],
   "source": [
    "#ploting the variations with epochs\n",
    "import matplotlib.pyplot as plt\n",
    "plt.figure(figsize=(10,10))\n",
    "plt.plot(history_mdl1.history['acc'])\n",
    "plt.plot(history_mdl1.history['val_acc'])\n",
    "plt.title('Custom Model 1 accuracy')\n",
    "plt.ylabel('accuracy')\n",
    "plt.xlabel('epoch')\n",
    "plt.legend(['train', 'test'], loc='upper left')\n",
    "plt.show()"
   ]
  },
  {
   "cell_type": "code",
   "execution_count": null,
   "metadata": {
    "id": "oT5wbsFpq27P"
   },
   "outputs": [],
   "source": [
    "#ploting the variations with epochs\n",
    "plt.figure(figsize=(10,10))\n",
    "plt.plot(history_mdl1.history['loss'])\n",
    "\n",
    "plt.plot(history_mdl1.history['val_loss'])\n",
    "plt.title('Custom Model 1 loss')\n",
    "plt.ylabel('loss')\n",
    "plt.xlabel('epoch')\n",
    "plt.legend(['train', 'test'], loc='upper left')\n",
    "plt.show()"
   ]
  },
  {
   "cell_type": "code",
   "execution_count": null,
   "metadata": {
    "id": "Tii3Iy6jq4ag"
   },
   "outputs": [],
   "source": [
    "#Save weights\n",
    "model.save_weights('cutom_model_2_v1.h5')"
   ]
  }
 ],
 "metadata": {
  "colab": {
   "authorship_tag": "ABX9TyMsoPpFplo18RUqsV033PEz",
   "collapsed_sections": [],
   "name": "training_with_data_generator_custom_model_2.ipynb",
   "provenance": []
  },
  "kernelspec": {
   "display_name": "Python 3",
   "language": "python",
   "name": "python3"
  },
  "language_info": {
   "codemirror_mode": {
    "name": "ipython",
    "version": 3
   },
   "file_extension": ".py",
   "mimetype": "text/x-python",
   "name": "python",
   "nbconvert_exporter": "python",
   "pygments_lexer": "ipython3",
   "version": "3.8.8"
  }
 },
 "nbformat": 4,
 "nbformat_minor": 1
}
