{
 "cells": [
  {
   "cell_type": "code",
   "execution_count": 2,
   "metadata": {
    "colab": {
     "base_uri": "https://localhost:8080/"
    },
    "executionInfo": {
     "elapsed": 639,
     "status": "ok",
     "timestamp": 1628741718614,
     "user": {
      "displayName": "Yash Patel",
      "photoUrl": "",
      "userId": "04860650492652365427"
     },
     "user_tz": -330
    },
    "id": "Z2HWTLUPjTY7",
    "outputId": "8ba8e874-7e1a-49ac-bdd2-8420b3fb00c2"
   },
   "outputs": [
    {
     "name": "stdout",
     "output_type": "stream",
     "text": [
      "Drive already mounted at ./gdrive; to attempt to forcibly remount, call drive.mount(\"./gdrive\", force_remount=True).\n"
     ]
    }
   ],
   "source": [
    "#loading google drive\n",
    "from google.colab import drive\n",
    "drive.mount('./gdrive')"
   ]
  },
  {
   "cell_type": "code",
   "execution_count": 3,
   "metadata": {
    "executionInfo": {
     "elapsed": 1596,
     "status": "ok",
     "timestamp": 1628741721443,
     "user": {
      "displayName": "Yash Patel",
      "photoUrl": "",
      "userId": "04860650492652365427"
     },
     "user_tz": -330
    },
    "id": "U3ORiHsPjaAJ"
   },
   "outputs": [],
   "source": [
    "import numpy as np \n",
    "import pandas as pd \n",
    "import random\n",
    "import cv2\n",
    "import os"
   ]
  },
  {
   "cell_type": "code",
   "execution_count": 4,
   "metadata": {
    "executionInfo": {
     "elapsed": 474,
     "status": "ok",
     "timestamp": 1628741725826,
     "user": {
      "displayName": "Yash Patel",
      "photoUrl": "",
      "userId": "04860650492652365427"
     },
     "user_tz": -330
    },
    "id": "aA3CbQrvjXOb"
   },
   "outputs": [],
   "source": [
    "#changing the current working directory after loading the drive\n",
    "os.chdir(\"/content/gdrive/MyDrive/ML Project/Mushroom Research Paper\")"
   ]
  },
  {
   "cell_type": "code",
   "execution_count": 5,
   "metadata": {
    "colab": {
     "base_uri": "https://localhost:8080/"
    },
    "executionInfo": {
     "elapsed": 673,
     "status": "ok",
     "timestamp": 1628741728281,
     "user": {
      "displayName": "Yash Patel",
      "photoUrl": "",
      "userId": "04860650492652365427"
     },
     "user_tz": -330
    },
    "id": "zWmLL_YxjiF5",
    "outputId": "70c138da-179b-4243-b180-15cc0341319a"
   },
   "outputs": [
    {
     "data": {
      "text/plain": [
       "['test2.ipynb',\n",
       " 'rawDataV2',\n",
       " 'rawData',\n",
       " 'IJRTE_Paper_Template.doc',\n",
       " 'Untitled0.ipynb',\n",
       " 'Mushroom notes.docx',\n",
       " 'PredictionFromDenseNet',\n",
       " 'Mushroom k2.docx',\n",
       " 'fullScaleClassifier.ipynb',\n",
       " 'INTRODUCTION.docx',\n",
       " 'Agaricus Bisporus',\n",
       " 'Death Cap',\n",
       " 'Galerina Autumnalis',\n",
       " 'Oyster',\n",
       " 'rawDataFull_Shuflled',\n",
       " 'rawDataFULL',\n",
       " 'data_files',\n",
       " 'config.py']"
      ]
     },
     "execution_count": 5,
     "metadata": {
      "tags": []
     },
     "output_type": "execute_result"
    }
   ],
   "source": [
    "#checking the directories present in current directory\n",
    "clss = os.listdir()\n",
    "clss"
   ]
  },
  {
   "cell_type": "code",
   "execution_count": 6,
   "metadata": {
    "executionInfo": {
     "elapsed": 433,
     "status": "ok",
     "timestamp": 1628741735322,
     "user": {
      "displayName": "Yash Patel",
      "photoUrl": "",
      "userId": "04860650492652365427"
     },
     "user_tz": -330
    },
    "id": "aLu3lFlQju6K"
   },
   "outputs": [],
   "source": [
    "#Parameters for the classification types\n",
    "num_classes = 4\n",
    "labels_name={'Agaricus Bisporus':0,'Death Cap':1,'Galerina Autumnalis':2,'Oyster':3}\n",
    "num_images_for_test = 200\n",
    "train_df = pd.DataFrame(columns=['FileName', 'Label', 'ClassName'])\n",
    "test_df = pd.DataFrame(columns=['FileName', 'Label', 'ClassName'])\n",
    "data_dir_list = [\"Agaricus Bisporus\", \"Death Cap\", \"Galerina Autumnalis\", \"Oyster\"]"
   ]
  },
  {
   "cell_type": "code",
   "execution_count": 7,
   "metadata": {
    "colab": {
     "base_uri": "https://localhost:8080/"
    },
    "executionInfo": {
     "elapsed": 675443,
     "status": "ok",
     "timestamp": 1628742421986,
     "user": {
      "displayName": "Yash Patel",
      "photoUrl": "",
      "userId": "04860650492652365427"
     },
     "user_tz": -330
    },
    "id": "go1jrtITjyw5",
    "outputId": "105e3594-6b16-44e3-fb49-fd0f81334b6c"
   },
   "outputs": [
    {
     "name": "stdout",
     "output_type": "stream",
     "text": [
      "Loading the images of dataset-Agaricus Bisporus\n",
      "\n",
      "Read 458 images out of 458 images from data dir Agaricus Bisporus\n",
      "\n",
      "Loading the images of dataset-Death Cap\n",
      "\n",
      "Read 529 images out of 529 images from data dir Death Cap\n",
      "\n",
      "Loading the images of dataset-Galerina Autumnalis\n",
      "\n",
      "Read 521 images out of 521 images from data dir Galerina Autumnalis\n",
      "\n",
      "Loading the images of dataset-Oyster\n",
      "\n",
      "/content/gdrive/My Drive/ML Project/Mushroom Research Paper/Oyster/pic_001.gif is corrupted\n",
      "\n",
      "Read 703 images out of 704 images from data dir Oyster\n",
      "\n",
      "completed reading all the image files and assigned labels accordingly\n"
     ]
    }
   ],
   "source": [
    "for dataset in data_dir_list:\n",
    "    # load the list of image names in each of the mushroom category\n",
    "    img_list = os.listdir(os.path.join(os.getcwd(),dataset))\n",
    "    print ('Loading the images of dataset-'+'{}\\n'.format(dataset))\n",
    "    label = labels_name[dataset]\n",
    "    num_img_files = len(img_list)\n",
    "    num_corrupted_files=0\n",
    "    test_list_index = random.sample(range(1, num_img_files-1), num_images_for_test)\n",
    "    \n",
    "    # read each file and if it is corrupted exclude it , if not include it in either train or test data frames\n",
    "    for i in range(num_img_files):\n",
    "        img_name = img_list[i]\n",
    "        img_filename = os.path.join(os.getcwd(),dataset,img_name)\n",
    "        try:\n",
    "            input_img = cv2.imread(img_filename)\n",
    "            img_shape=input_img.shape\n",
    "            if i in test_list_index:\n",
    "                test_df = test_df.append({'FileName': img_filename, 'Label': label,'ClassName': dataset},ignore_index=True)\n",
    "            else:\n",
    "                train_df = train_df.append({'FileName': img_filename, 'Label': label,'ClassName': dataset},ignore_index=True)       \n",
    "        except:\n",
    "            print ('{} is corrupted\\n'.format(img_filename))\n",
    "            num_corrupted_files+=1\n",
    "    \n",
    "    print ('Read {0} images out of {1} images from data dir {2}\\n'.format(num_img_files-num_corrupted_files,num_img_files,dataset))\n",
    "\n",
    "print ('completed reading all the image files and assigned labels accordingly')"
   ]
  },
  {
   "cell_type": "code",
   "execution_count": 8,
   "metadata": {
    "colab": {
     "base_uri": "https://localhost:8080/"
    },
    "executionInfo": {
     "elapsed": 420,
     "status": "ok",
     "timestamp": 1628742694174,
     "user": {
      "displayName": "Yash Patel",
      "photoUrl": "",
      "userId": "04860650492652365427"
     },
     "user_tz": -330
    },
    "id": "GNeq3Qgjj3Ip",
    "outputId": "197abf1e-8dc2-4433-e17d-3b5a69fd18f4"
   },
   "outputs": [
    {
     "name": "stdout",
     "output_type": "stream",
     "text": [
      "The train and test csv files are saved\n"
     ]
    }
   ],
   "source": [
    "#Saving the processed data in formated csv form\n",
    "if not os.path.exists('data_files'):\n",
    "    os.mkdir('data_files')\n",
    "\n",
    "train_df.to_csv('data_files/mushroom_recognition_train.csv')\n",
    "test_df.to_csv('data_files/mushroom_recognition_test.csv')\n",
    "print('The train and test csv files are saved')\n",
    "\n",
    "import pickle as pkl\n",
    "with open('data_files/label_map.pkl', 'wb') as handle:\n",
    "    pkl.dump(labels_name, handle, protocol=pkl.HIGHEST_PROTOCOL)"
   ]
  },
  {
   "cell_type": "code",
   "execution_count": null,
   "metadata": {
    "id": "Mu6RDOyyj-_h"
   },
   "outputs": [],
   "source": []
  }
 ],
 "metadata": {
  "colab": {
   "authorship_tag": "ABX9TyPyktj1N9+i6RS7CH9lrz8X",
   "collapsed_sections": [],
   "name": "make_generator_dataset.ipynb",
   "provenance": []
  },
  "kernelspec": {
   "display_name": "Python 3",
   "language": "python",
   "name": "python3"
  },
  "language_info": {
   "codemirror_mode": {
    "name": "ipython",
    "version": 3
   },
   "file_extension": ".py",
   "mimetype": "text/x-python",
   "name": "python",
   "nbconvert_exporter": "python",
   "pygments_lexer": "ipython3",
   "version": "3.8.8"
  }
 },
 "nbformat": 4,
 "nbformat_minor": 1
}
