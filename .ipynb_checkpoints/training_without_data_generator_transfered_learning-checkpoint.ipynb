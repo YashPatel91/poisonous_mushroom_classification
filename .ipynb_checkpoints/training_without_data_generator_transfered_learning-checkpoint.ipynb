{
 "cells": [
  {
   "cell_type": "code",
   "execution_count": null,
   "metadata": {
    "colab": {
     "base_uri": "https://localhost:8080/"
    },
    "executionInfo": {
     "elapsed": 541,
     "status": "ok",
     "timestamp": 1628340620638,
     "user": {
      "displayName": "Yash Patel",
      "photoUrl": "",
      "userId": "04860650492652365427"
     },
     "user_tz": -330
    },
    "id": "-ow_PjZKPEN1",
    "outputId": "a9a31447-a056-4c26-e06a-afd6749dc462"
   },
   "outputs": [
    {
     "name": "stdout",
     "output_type": "stream",
     "text": [
      "Drive already mounted at ./gdrive; to attempt to forcibly remount, call drive.mount(\"./gdrive\", force_remount=True).\n"
     ]
    }
   ],
   "source": [
    "#loading google drive\n",
    "from google.colab import drive\n",
    "drive.mount('./gdrive')"
   ]
  },
  {
   "cell_type": "code",
   "execution_count": null,
   "metadata": {
    "id": "tlaleBEqPPKc"
   },
   "outputs": [],
   "source": [
    "#changing the current working directory\n",
    "import os\n",
    "os.chdir(\"/content/gdrive/MyDrive/ML Project/Mushroom Research Paper\")"
   ]
  },
  {
   "cell_type": "code",
   "execution_count": null,
   "metadata": {
    "colab": {
     "base_uri": "https://localhost:8080/"
    },
    "executionInfo": {
     "elapsed": 906,
     "status": "ok",
     "timestamp": 1628340625795,
     "user": {
      "displayName": "Yash Patel",
      "photoUrl": "",
      "userId": "04860650492652365427"
     },
     "user_tz": -330
    },
    "id": "uA5toLUjPUlZ",
    "outputId": "719eb734-b881-4c71-96f7-8e497f9dd0d7"
   },
   "outputs": [
    {
     "data": {
      "text/plain": [
       "['rawDataV2',\n",
       " 'rawData',\n",
       " 'IJRTE_Paper_Template.doc',\n",
       " 'Untitled0.ipynb',\n",
       " 'Mushroom notes.docx',\n",
       " 'PredictionFromDenseNet',\n",
       " 'Mushroom k2.docx',\n",
       " 'fullScaleClassifier.ipynb',\n",
       " 'INTRODUCTION.docx',\n",
       " 'Agaricus Bisporus',\n",
       " 'Death Cap',\n",
       " 'Galerina Autumnalis',\n",
       " 'Oyster',\n",
       " 'rawDataFull_Shuflled',\n",
       " 'rawDataFULL']"
      ]
     },
     "execution_count": 3,
     "metadata": {
      "tags": []
     },
     "output_type": "execute_result"
    }
   ],
   "source": [
    "#checking the directories present in current directory\n",
    "clss = os.listdir()\n",
    "clss"
   ]
  },
  {
   "cell_type": "code",
   "execution_count": null,
   "metadata": {
    "colab": {
     "base_uri": "https://localhost:8080/"
    },
    "executionInfo": {
     "elapsed": 8964,
     "status": "ok",
     "timestamp": 1628340634756,
     "user": {
      "displayName": "Yash Patel",
      "photoUrl": "",
      "userId": "04860650492652365427"
     },
     "user_tz": -330
    },
    "id": "UDynLneQnvQD",
    "outputId": "3dc2b62c-8fb8-4670-d94c-0a342813c58f"
   },
   "outputs": [
    {
     "name": "stdout",
     "output_type": "stream",
     "text": [
      "Image read error at Oyster pic_001.gif\n"
     ]
    }
   ],
   "source": [
    "#Loading all the images in a single go\n",
    "import cv2 as cv\n",
    "data = []\n",
    "# y = []\n",
    "labels = [\"Agaricus Bisporus\", \"Death Cap\", \"Galerina Autumnalis\", \"Oyster\"]\n",
    "\n",
    "for i,label in enumerate(labels):\n",
    "  path = os.path.join(os.getcwd(), label)\n",
    "  images = os.listdir(path)\n",
    "  for img in images:\n",
    "    image_loc = os.path.join(path, img)\n",
    "    try:\n",
    "      ip = cv.imread(image_loc)\n",
    "      ip = cv.resize(ip, (300,300))\n",
    "      data.append([ip, i])\n",
    "    except:\n",
    "      print(\"Image read error at\", label, img)"
   ]
  },
  {
   "cell_type": "code",
   "execution_count": null,
   "metadata": {
    "id": "oFBofmF8n3qW"
   },
   "outputs": [],
   "source": [
    "#saving loaded data for later use\n",
    "import pickle\n",
    "fO = open('rawDataFULL', 'wb')\n",
    "pickle.dump(data, fO)"
   ]
  },
  {
   "cell_type": "code",
   "execution_count": null,
   "metadata": {
    "colab": {
     "base_uri": "https://localhost:8080/"
    },
    "executionInfo": {
     "elapsed": 809,
     "status": "ok",
     "timestamp": 1628340638010,
     "user": {
      "displayName": "Yash Patel",
      "photoUrl": "",
      "userId": "04860650492652365427"
     },
     "user_tz": -330
    },
    "id": "bY5bxUnCrvZq",
    "outputId": "43aa8e2f-2bfd-41c7-bced-09fb8bcb55eb"
   },
   "outputs": [
    {
     "data": {
      "text/plain": [
       "2211"
      ]
     },
     "execution_count": 5,
     "metadata": {
      "tags": []
     },
     "output_type": "execute_result"
    }
   ],
   "source": [
    "#shuffling the data\n",
    "import random\n",
    "random.shuffle(data)\n",
    "len(data)"
   ]
  },
  {
   "cell_type": "code",
   "execution_count": null,
   "metadata": {
    "id": "9qqrhXvRrzmo"
   },
   "outputs": [],
   "source": [
    "#saving the shuffled data for later use\n",
    "import pickle\n",
    "fileOpener = open('rawDataFull_Shuflled', 'wb')\n",
    "pickle.dump(data, fileOpener)"
   ]
  },
  {
   "cell_type": "code",
   "execution_count": null,
   "metadata": {
    "colab": {
     "base_uri": "https://localhost:8080/",
     "height": 214
    },
    "executionInfo": {
     "elapsed": 19065,
     "status": "error",
     "timestamp": 1628317335990,
     "user": {
      "displayName": "Yash Patel",
      "photoUrl": "",
      "userId": "04860650492652365427"
     },
     "user_tz": -330
    },
    "id": "o2j9wlS0r32N",
    "outputId": "67efbfb5-db98-45d0-f7c7-7002368c4245"
   },
   "outputs": [
    {
     "ename": "EOFError",
     "evalue": "ignored",
     "output_type": "error",
     "traceback": [
      "\u001b[0;31m---------------------------------------------------------------------------\u001b[0m",
      "\u001b[0;31mEOFError\u001b[0m                                  Traceback (most recent call last)",
      "\u001b[0;32m<ipython-input-9-f509145a6149>\u001b[0m in \u001b[0;36m<module>\u001b[0;34m()\u001b[0m\n\u001b[1;32m      2\u001b[0m \u001b[0;32mimport\u001b[0m \u001b[0mnumpy\u001b[0m \u001b[0;32mas\u001b[0m \u001b[0mnp\u001b[0m\u001b[0;34m\u001b[0m\u001b[0;34m\u001b[0m\u001b[0m\n\u001b[1;32m      3\u001b[0m \u001b[0mfOpener\u001b[0m \u001b[0;34m=\u001b[0m \u001b[0mopen\u001b[0m\u001b[0;34m(\u001b[0m\u001b[0;34m\"rawDataFull_Shuflled\"\u001b[0m\u001b[0;34m,\u001b[0m\u001b[0;34m\"rb\"\u001b[0m\u001b[0;34m)\u001b[0m\u001b[0;34m\u001b[0m\u001b[0;34m\u001b[0m\u001b[0m\n\u001b[0;32m----> 4\u001b[0;31m \u001b[0mdata\u001b[0m \u001b[0;34m=\u001b[0m \u001b[0mpickle\u001b[0m\u001b[0;34m.\u001b[0m\u001b[0mload\u001b[0m\u001b[0;34m(\u001b[0m\u001b[0mfOpener\u001b[0m\u001b[0;34m)\u001b[0m\u001b[0;34m\u001b[0m\u001b[0;34m\u001b[0m\u001b[0m\n\u001b[0m\u001b[1;32m      5\u001b[0m \u001b[0mlen\u001b[0m\u001b[0;34m(\u001b[0m\u001b[0mdata\u001b[0m\u001b[0;34m)\u001b[0m\u001b[0;34m\u001b[0m\u001b[0;34m\u001b[0m\u001b[0m\n",
      "\u001b[0;31mEOFError\u001b[0m: Ran out of input"
     ]
    }
   ],
   "source": [
    "#loading the data which was saved earlier to skip pre processing steps\n",
    "import pickle\n",
    "import numpy as np\n",
    "fOpener = open(\"rawDataFull_Shuflled\",\"rb\")\n",
    "data = pickle.load(fOpener)\n",
    "len(data)"
   ]
  },
  {
   "cell_type": "code",
   "execution_count": null,
   "metadata": {
    "colab": {
     "base_uri": "https://localhost:8080/"
    },
    "executionInfo": {
     "elapsed": 566,
     "status": "ok",
     "timestamp": 1628340641974,
     "user": {
      "displayName": "Yash Patel",
      "photoUrl": "",
      "userId": "04860650492652365427"
     },
     "user_tz": -330
    },
    "id": "Lt-mP5hMsnzn",
    "outputId": "7cb253df-e5aa-47ef-f2ab-dd9f404b9f6a"
   },
   "outputs": [
    {
     "name": "stdout",
     "output_type": "stream",
     "text": [
      "2211\n",
      "2211\n"
     ]
    }
   ],
   "source": [
    "X = []\n",
    "y = []\n",
    "for inp, lbl in data:\n",
    "  X.append(inp)\n",
    "  y.append(lbl)\n",
    "\n",
    "print(len(X))\n",
    "print(len(y))"
   ]
  },
  {
   "cell_type": "code",
   "execution_count": null,
   "metadata": {
    "colab": {
     "base_uri": "https://localhost:8080/"
    },
    "executionInfo": {
     "elapsed": 819,
     "status": "ok",
     "timestamp": 1628340643815,
     "user": {
      "displayName": "Yash Patel",
      "photoUrl": "",
      "userId": "04860650492652365427"
     },
     "user_tz": -330
    },
    "id": "wFikgTe8vjXA",
    "outputId": "b088a0bf-c256-47a2-c183-12ec1c40ac85"
   },
   "outputs": [
    {
     "name": "stdout",
     "output_type": "stream",
     "text": [
      "(2211, 300, 300, 3)\n"
     ]
    },
    {
     "data": {
      "text/plain": [
       "(2211,)"
      ]
     },
     "execution_count": 7,
     "metadata": {
      "tags": []
     },
     "output_type": "execute_result"
    }
   ],
   "source": [
    "import numpy as np\n",
    "X = np.array(X)\n",
    "y = np.array(y)\n",
    "print(X.shape)\n",
    "y.shape"
   ]
  },
  {
   "cell_type": "code",
   "execution_count": null,
   "metadata": {
    "colab": {
     "base_uri": "https://localhost:8080/"
    },
    "executionInfo": {
     "elapsed": 6962,
     "status": "ok",
     "timestamp": 1628340653286,
     "user": {
      "displayName": "Yash Patel",
      "photoUrl": "",
      "userId": "04860650492652365427"
     },
     "user_tz": -330
    },
    "id": "hOU4aDipvqlA",
    "outputId": "8af11d35-f29e-460d-e6ea-509554de8017"
   },
   "outputs": [
    {
     "name": "stdout",
     "output_type": "stream",
     "text": [
      "(2211, 4)\n"
     ]
    },
    {
     "data": {
      "text/plain": [
       "array([[1., 0., 0., 0.],\n",
       "       [0., 0., 0., 1.],\n",
       "       [0., 0., 0., 1.],\n",
       "       [0., 0., 0., 1.],\n",
       "       [0., 0., 1., 0.],\n",
       "       [0., 1., 0., 0.],\n",
       "       [0., 0., 0., 1.],\n",
       "       [0., 1., 0., 0.],\n",
       "       [0., 0., 0., 1.],\n",
       "       [0., 1., 0., 0.]], dtype=float32)"
      ]
     },
     "execution_count": 8,
     "metadata": {
      "tags": []
     },
     "output_type": "execute_result"
    }
   ],
   "source": [
    "from tensorflow.keras.utils import to_categorical\n",
    "y = to_categorical(y)\n",
    "print(y.shape)\n",
    "y[:10]"
   ]
  },
  {
   "cell_type": "code",
   "execution_count": null,
   "metadata": {
    "colab": {
     "base_uri": "https://localhost:8080/"
    },
    "executionInfo": {
     "elapsed": 1016,
     "status": "ok",
     "timestamp": 1628340656449,
     "user": {
      "displayName": "Yash Patel",
      "photoUrl": "",
      "userId": "04860650492652365427"
     },
     "user_tz": -330
    },
    "id": "SRDIR-Wrvtt1",
    "outputId": "45557c6c-f600-4e09-a50c-b820b61d9d43"
   },
   "outputs": [
    {
     "name": "stdout",
     "output_type": "stream",
     "text": [
      "(1768, 300, 300, 3)\n",
      "(1768, 4)\n",
      "(443, 300, 300, 3)\n",
      "(443, 4)\n"
     ]
    }
   ],
   "source": [
    "from sklearn.model_selection import train_test_split\n",
    "X_train, X_test, y_train, y_test = train_test_split(X, y, test_size = 0.20)\n",
    "print(X_train.shape)\n",
    "print(y_train.shape)\n",
    "print(X_test.shape)\n",
    "print(y_test.shape)"
   ]
  },
  {
   "cell_type": "code",
   "execution_count": null,
   "metadata": {
    "id": "h-ad1tLCv9up"
   },
   "outputs": [],
   "source": [
    "import keras\n",
    "from tensorflow.keras.models import Sequential\n",
    "from tensorflow.keras.layers import Flatten, Dropout, Conv2D, MaxPooling2D, Dense\n",
    "from tensorflow.keras.applications.densenet import DenseNet201\n",
    "from tensorflow.keras.applications.inception_v3 import InceptionV3"
   ]
  },
  {
   "cell_type": "code",
   "execution_count": null,
   "metadata": {
    "colab": {
     "base_uri": "https://localhost:8080/"
    },
    "executionInfo": {
     "elapsed": 4543,
     "status": "ok",
     "timestamp": 1628308583321,
     "user": {
      "displayName": "Yash Patel",
      "photoUrl": "",
      "userId": "04860650492652365427"
     },
     "user_tz": -330
    },
    "id": "bMmqzipvwPnv",
    "outputId": "998e58d3-2281-469c-a42e-fcab6a865e39"
   },
   "outputs": [
    {
     "name": "stdout",
     "output_type": "stream",
     "text": [
      "Downloading data from https://storage.googleapis.com/tensorflow/keras-applications/inception_v3/inception_v3_weights_tf_dim_ordering_tf_kernels_notop.h5\n",
      "87916544/87910968 [==============================] - 1s 0us/step\n"
     ]
    }
   ],
   "source": [
    "# MODEL 1: INCEPTION V3\n",
    "mdl1 = Sequential()\n",
    "mdl1.add(InceptionV3(input_shape=(300,300,3), include_top=False, weights='imagenet'))\n",
    "mdl1.add(Flatten())\n",
    "mdl1.add(Dense(64, activation='relu'))\n",
    "mdl1.add(Dense(4, activation='sigmoid'))\n",
    "mdl1.compile(loss='categorical_crossentropy', metrics=['acc'], optimizer='sgd')"
   ]
  },
  {
   "cell_type": "code",
   "execution_count": null,
   "metadata": {
    "colab": {
     "base_uri": "https://localhost:8080/"
    },
    "executionInfo": {
     "elapsed": 5619151,
     "status": "ok",
     "timestamp": 1628314632952,
     "user": {
      "displayName": "Yash Patel",
      "photoUrl": "",
      "userId": "04860650492652365427"
     },
     "user_tz": -330
    },
    "id": "72NJKsriwR9E",
    "outputId": "266197e5-c54c-479b-adbc-60ebb2f6f70b"
   },
   "outputs": [
    {
     "name": "stdout",
     "output_type": "stream",
     "text": [
      "Epoch 1/6\n",
      "47/47 [==============================] - 1009s 21s/step - loss: 1.8933 - acc: 0.3955 - val_loss: 1.0479 - val_acc: 0.5188\n",
      "Epoch 2/6\n",
      "47/47 [==============================] - 991s 21s/step - loss: 0.6636 - acc: 0.7310 - val_loss: 0.5983 - val_acc: 0.7782\n",
      "Epoch 3/6\n",
      "47/47 [==============================] - 992s 21s/step - loss: 0.1954 - acc: 0.9348 - val_loss: 0.4255 - val_acc: 0.8459\n",
      "Epoch 4/6\n",
      "47/47 [==============================] - 996s 21s/step - loss: 0.0694 - acc: 0.9794 - val_loss: 0.4450 - val_acc: 0.8609\n",
      "Epoch 5/6\n",
      "47/47 [==============================] - 995s 21s/step - loss: 0.0292 - acc: 0.9933 - val_loss: 0.3314 - val_acc: 0.8872\n",
      "Epoch 6/6\n",
      "47/47 [==============================] - 993s 21s/step - loss: 0.0191 - acc: 0.9947 - val_loss: 0.3849 - val_acc: 0.8797\n"
     ]
    }
   ],
   "source": [
    "history_mdl1 = mdl1.fit(X_train, y_train, epochs = 6, validation_split = 0.15)"
   ]
  },
  {
   "cell_type": "code",
   "execution_count": null,
   "metadata": {
    "colab": {
     "base_uri": "https://localhost:8080/"
    },
    "executionInfo": {
     "elapsed": 53689,
     "status": "ok",
     "timestamp": 1628315810038,
     "user": {
      "displayName": "Yash Patel",
      "photoUrl": "",
      "userId": "04860650492652365427"
     },
     "user_tz": -330
    },
    "id": "tK5gxRpcwYWA",
    "outputId": "b128c6b2-d159-4572-fd0b-4f96a47ce0a4"
   },
   "outputs": [
    {
     "name": "stdout",
     "output_type": "stream",
     "text": [
      "14/14 [==============================] - 53s 4s/step - loss: 0.4036 - acc: 0.8691\n"
     ]
    },
    {
     "data": {
      "text/plain": [
       "[0.4035549759864807, 0.8690744638442993]"
      ]
     },
     "execution_count": 22,
     "metadata": {
      "tags": []
     },
     "output_type": "execute_result"
    }
   ],
   "source": [
    "mdl1.evaluate(X_test, y_test)"
   ]
  },
  {
   "cell_type": "code",
   "execution_count": null,
   "metadata": {
    "id": "j5A8udfJLqSp"
   },
   "outputs": [],
   "source": [
    "y_pred = mdl1.predict(X_test)"
   ]
  },
  {
   "cell_type": "code",
   "execution_count": null,
   "metadata": {
    "colab": {
     "base_uri": "https://localhost:8080/"
    },
    "executionInfo": {
     "elapsed": 396,
     "status": "ok",
     "timestamp": 1628316365614,
     "user": {
      "displayName": "Yash Patel",
      "photoUrl": "",
      "userId": "04860650492652365427"
     },
     "user_tz": -330
    },
    "id": "wf6OZkEbNfiZ",
    "outputId": "e861b872-a18f-4be5-8a2e-488db601c671"
   },
   "outputs": [
    {
     "name": "stdout",
     "output_type": "stream",
     "text": [
      "dict_keys(['loss', 'acc', 'val_loss', 'val_acc'])\n"
     ]
    }
   ],
   "source": [
    "print(history_mdl1.history.keys())"
   ]
  },
  {
   "cell_type": "code",
   "execution_count": null,
   "metadata": {
    "colab": {
     "base_uri": "https://localhost:8080/",
     "height": 621
    },
    "executionInfo": {
     "elapsed": 553,
     "status": "ok",
     "timestamp": 1628316377896,
     "user": {
      "displayName": "Yash Patel",
      "photoUrl": "",
      "userId": "04860650492652365427"
     },
     "user_tz": -330
    },
    "id": "792poBzjN-8c",
    "outputId": "613fde8b-ea1f-4492-856f-87ebf10b46d7"
   },
   "outputs": [
    {
     "data": {
      "image/png": "[encoded data removed]",
      "text/plain": [
       "<Figure size 720x720 with 1 Axes>"
      ]
     },
     "metadata": {
      "tags": []
     },
     "output_type": "display_data"
    }
   ],
   "source": [
    "#ploting changes with each epoch\n",
    "import matplotlib.pyplot as plt\n",
    "plt.figure(figsize=(10,10))\n",
    "plt.plot(history_mdl1.history['acc'])\n",
    "plt.plot(history_mdl1.history['val_acc'])\n",
    "plt.title('Inception V3 Model accuracy')\n",
    "plt.ylabel('accuracy')\n",
    "plt.xlabel('epoch')\n",
    "plt.legend(['train', 'test'], loc='upper left')\n",
    "plt.show()"
   ]
  },
  {
   "cell_type": "code",
   "execution_count": null,
   "metadata": {
    "colab": {
     "base_uri": "https://localhost:8080/",
     "height": 621
    },
    "executionInfo": {
     "elapsed": 598,
     "status": "ok",
     "timestamp": 1628316400142,
     "user": {
      "displayName": "Yash Patel",
      "photoUrl": "",
      "userId": "04860650492652365427"
     },
     "user_tz": -330
    },
    "id": "kR1XQRAROB5O",
    "outputId": "6d1ca115-329d-437a-f0b6-cda643c2e044"
   },
   "outputs": [
    {
     "data": {
      "image/png": "[encoded data removed]",
      "text/plain": [
       "<Figure size 720x720 with 1 Axes>"
      ]
     },
     "metadata": {
      "tags": []
     },
     "output_type": "display_data"
    }
   ],
   "source": [
    "#ploting changes with each epoch\n",
    "plt.figure(figsize=(10,10))\n",
    "plt.plot(history_mdl1.history['loss'])\n",
    "\n",
    "plt.plot(history_mdl1.history['val_loss'])\n",
    "plt.title('Inception V3 Model loss')\n",
    "plt.ylabel('loss')\n",
    "plt.xlabel('epoch')\n",
    "plt.legend(['train', 'test'], loc='upper left')\n",
    "plt.show()"
   ]
  }
 ],
 "metadata": {
  "colab": {
   "authorship_tag": "ABX9TyM7ucdiXNgxRRIoKVXyazOC",
   "collapsed_sections": [],
   "name": "training_without_data_generator_transfered_learning.ipynb",
   "provenance": []
  },
  "kernelspec": {
   "display_name": "Python 3",
   "language": "python",
   "name": "python3"
  },
  "language_info": {
   "codemirror_mode": {
    "name": "ipython",
    "version": 3
   },
   "file_extension": ".py",
   "mimetype": "text/x-python",
   "name": "python",
   "nbconvert_exporter": "python",
   "pygments_lexer": "ipython3",
   "version": "3.8.8"
  }
 },
 "nbformat": 4,
 "nbformat_minor": 1
}
